{
  "nbformat": 4,
  "nbformat_minor": 0,
  "metadata": {
    "colab": {
      "provenance": [],
      "collapsed_sections": [
        "cmjb1kaS_C-I",
        "e1phsJnwCji0",
        "HB7Gu5HbAigP",
        "qU_Prtd1G11W",
        "ZaKh3EkgRK3H",
        "s9CsimwTSluX"
      ],
      "authorship_tag": "ABX9TyPiyjQ+Y3v4PD2TDvN3Dt3Z",
      "include_colab_link": true
    },
    "kernelspec": {
      "name": "python3",
      "display_name": "Python 3"
    },
    "language_info": {
      "name": "python"
    }
  },
  "cells": [
    {
      "cell_type": "markdown",
      "metadata": {
        "id": "view-in-github",
        "colab_type": "text"
      },
      "source": [
        "<a href=\"https://colab.research.google.com/github/81189K/Python-colab/blob/main/100%2BExercies_Adv_Python.ipynb\" target=\"_parent\"><img src=\"https://colab.research.google.com/assets/colab-badge.svg\" alt=\"Open In Colab\"/></a>"
      ]
    },
    {
      "cell_type": "markdown",
      "source": [
        "### Demo"
      ],
      "metadata": {
        "id": "cmjb1kaS_C-I"
      }
    },
    {
      "cell_type": "code",
      "execution_count": null,
      "metadata": {
        "colab": {
          "base_uri": "https://localhost:8080/"
        },
        "id": "TZTrRlMj5rPR",
        "outputId": "4c38f3ce-9652-456f-c2d3-0d7b5c2decb0"
      },
      "outputs": [
        {
          "output_type": "stream",
          "name": "stdout",
          "text": [
            "hola\n"
          ]
        }
      ],
      "source": [
        "print(\"hola\")"
      ]
    },
    {
      "cell_type": "markdown",
      "source": [
        "00 Print Python Version"
      ],
      "metadata": {
        "id": "3e1I2qmY-Wtw"
      }
    },
    {
      "cell_type": "code",
      "source": [
        "import sys\n",
        "print(sys.version)\n",
        "print(type(sys.version))\n",
        "print(\"version: \", sys.version.split()[0])"
      ],
      "metadata": {
        "colab": {
          "base_uri": "https://localhost:8080/"
        },
        "id": "EPteY9si-bUs",
        "outputId": "40414984-f415-4bba-d733-25f469abc6ae"
      },
      "execution_count": null,
      "outputs": [
        {
          "output_type": "stream",
          "name": "stdout",
          "text": [
            "3.7.13 (default, Apr 24 2022, 01:04:09) \n",
            "[GCC 7.5.0]\n",
            "<class 'str'>\n",
            "version:  3.7.13\n"
          ]
        }
      ]
    },
    {
      "cell_type": "markdown",
      "source": [
        "### Exercises 1-10"
      ],
      "metadata": {
        "id": "CcA3U0zj_FyK"
      }
    },
    {
      "cell_type": "markdown",
      "source": [
        "> #### 01 Print sum of numbers which are multiples of 5 or 7 less than given upperLimit"
      ],
      "metadata": {
        "id": "e1phsJnwCji0"
      }
    },
    {
      "cell_type": "code",
      "source": [
        "def calculate(upperLimit):\n",
        "    num,sum=0,0\n",
        "    while(num<upperLimit):\n",
        "        if( num%5==0 or num%7==0 ):\n",
        "            sum+=num\n",
        "        num+=1\n",
        "    return sum\n",
        "\n",
        "#print(calculate(100))\n",
        "\n",
        "\n",
        "def calculate2(upperLimit):\n",
        "    num=[]\n",
        "    for i in range(upperLimit):\n",
        "      if i%5==0 or i%7==0:\n",
        "        num.append(i)\n",
        "    return sum(num)\n",
        "\n",
        "#print(calculate2(100))\n",
        "\n",
        "def calculate3(upperLimit):\n",
        "  return sum([i for i in range(upperLimit) if i%5==0 or i%7==0])\n",
        "print(calculate3(100))"
      ],
      "metadata": {
        "colab": {
          "base_uri": "https://localhost:8080/"
        },
        "id": "r39QICHS_OMt",
        "outputId": "f4e3caa3-df50-4f39-c1a5-ead41c8a9ee8"
      },
      "execution_count": null,
      "outputs": [
        {
          "output_type": "stream",
          "name": "stdout",
          "text": [
            "1580\n"
          ]
        }
      ]
    },
    {
      "cell_type": "markdown",
      "source": [
        "> #### 02 Print the sum of all even elements of Fibonacci sequence with values less than 1000000 (1 million)"
      ],
      "metadata": {
        "id": "HB7Gu5HbAigP"
      }
    },
    {
      "cell_type": "code",
      "source": [
        "def calculate():\n",
        "    a,b,total = 0,1,0\n",
        "  \n",
        "    while(a<1000000):\n",
        "      if a%2==0:\n",
        "        total+=a\n",
        "      a,b = b, a+b\n",
        "    return total\n",
        " \n",
        "print(calculate())"
      ],
      "metadata": {
        "colab": {
          "base_uri": "https://localhost:8080/"
        },
        "id": "RpHaf7tNDlYV",
        "outputId": "f0700927-cf61-4da1-8ea7-e88fc70dbd49"
      },
      "execution_count": null,
      "outputs": [
        {
          "output_type": "stream",
          "name": "stdout",
          "text": [
            "1089154\n"
          ]
        }
      ]
    },
    {
      "cell_type": "markdown",
      "source": [
        "> #### 03 Prime factors"
      ],
      "metadata": {
        "id": "qU_Prtd1G11W"
      }
    },
    {
      "cell_type": "code",
      "source": [
        "def calculate(num):\n",
        "  i = 2\n",
        "  factors = []\n",
        "  while i*i <= num:\n",
        "    if num%i != 0:\n",
        "      i+=1\n",
        "    else:\n",
        "      num//=i\n",
        "      factors.append(i)\n",
        "  if num > 1:\n",
        "    factors.append(num)\n",
        "  return factors\n",
        "\n",
        "#print(calculate(48))\n",
        "\n",
        "\n",
        "def calculate2(num):\n",
        "  i = 2\n",
        "  factors = []\n",
        "  while 1 < num:\n",
        "    if num%i == 0:\n",
        "      num//=i\n",
        "      factors.append(i)\n",
        "    else:\n",
        "      i+=1\n",
        "  return factors\n",
        "\n",
        "print(calculate2(36))"
      ],
      "metadata": {
        "colab": {
          "base_uri": "https://localhost:8080/"
        },
        "id": "EZn04-QGHQOi",
        "outputId": "8bcb0bb9-4fd2-41ad-a85d-b622b0e73d99"
      },
      "execution_count": null,
      "outputs": [
        {
          "output_type": "stream",
          "name": "stdout",
          "text": [
            "[2, 2, 3, 3]\n"
          ]
        }
      ]
    },
    {
      "cell_type": "markdown",
      "source": [
        "> #### 04 SquareRoot"
      ],
      "metadata": {
        "id": "ZaKh3EkgRK3H"
      }
    },
    {
      "cell_type": "code",
      "source": [
        "import math\n",
        "\n",
        "# Function to find the square root of n\n",
        "def findSqrt(n):\n",
        "\ti = 1 \n",
        "\n",
        "\t# While the square root is not found\n",
        "\tfound = False \n",
        "\twhile (found == False):\n",
        "\n",
        "\t\t# If n is a perfect square\n",
        "\t\tif (i * i == n):\n",
        "\t\t\tprint(i) \n",
        "\t\t\tfound = True \n",
        "\t\t\n",
        "\t\telif (i * i > n):\n",
        "\n",
        "\t\t\t# Square root will lie in the interval i-1 and i\n",
        "\t\t\tres = Square(n, i - 1, i) \n",
        "\t\t\tprint (\"{0:.5f}\".format(res))\n",
        "\t\t\tfound = True\n",
        "\t\ti += 1 \n",
        "\n",
        "\n",
        "# Recursive function that returns square root of a number with precision upto 5 decimal places\n",
        "def Square(n, i, j):\n",
        "\n",
        "\tmid = (i + j) / 2 \n",
        "\tmul = mid * mid \n",
        "\n",
        "\t# If mid itself is the square root, return mid\n",
        "\tif ((mul == n) or (abs(mul - n) < 0.00001)):\n",
        "\t\treturn mid \n",
        "\n",
        "\t# If mul is less than n, recur second half\n",
        "\telif (mul < n):\n",
        "\t\treturn Square(n, mid, j) \n",
        "\n",
        "\t# Else recur first half\n",
        "\telse:\n",
        "\t\treturn Square(n, i, mid) \n",
        "\n",
        "\n",
        "findSqrt(366)"
      ],
      "metadata": {
        "colab": {
          "base_uri": "https://localhost:8080/"
        },
        "id": "aV0fL9dxRPDO",
        "outputId": "b3eadae4-59b5-4ea2-f9b4-7c9ca56a7545"
      },
      "execution_count": null,
      "outputs": [
        {
          "output_type": "stream",
          "name": "stdout",
          "text": [
            "19.13113\n"
          ]
        }
      ]
    },
    {
      "cell_type": "markdown",
      "source": [
        "> #### 04 greatest factor of given number"
      ],
      "metadata": {
        "id": "s9CsimwTSluX"
      }
    },
    {
      "cell_type": "code",
      "source": [
        "def calculate(num):\n",
        "  i = 2\n",
        "  factors = []\n",
        "  while 1 < num:\n",
        "    if num%i == 0:\n",
        "      num//=i\n",
        "      factors.append(i)\n",
        "    else:\n",
        "      i+=1\n",
        "  #return factors[-1]\n",
        "  return max(factors)\n",
        "print(calculate(37))\n",
        "\n",
        "def maxPrimeFactor(num):\n",
        "  maxPrime = -1\n",
        "  while num % 2 ==0:\n",
        "    maxPrime = 2\n",
        "    num/=2\n",
        "  #at this point num will be odd. since removed all 2's\n",
        "  for i in range(3, int(num**0.5) + 1, 2):\n",
        "    while num % i ==0:\n",
        "      maxPrime = i\n",
        "      num/=i\n",
        "  # when num itself is a prime > 2\n",
        "  if num > 2:\n",
        "    maxPrime = num\n",
        "  return int(maxPrime)\n",
        "\n",
        "#print(maxPrimeFactor(37))"
      ],
      "metadata": {
        "colab": {
          "base_uri": "https://localhost:8080/"
        },
        "id": "LsH39iPSSqxm",
        "outputId": "8a2df024-400e-4c6a-abef-9761fd174f5e"
      },
      "execution_count": null,
      "outputs": [
        {
          "output_type": "stream",
          "name": "stdout",
          "text": [
            "37\n"
          ]
        }
      ]
    },
    {
      "cell_type": "markdown",
      "source": [],
      "metadata": {
        "id": "ATs4K0bkXFd2"
      }
    },
    {
      "cell_type": "markdown",
      "source": [
        "> #### 05 Print no. of all 3-digit palindromic numbers"
      ],
      "metadata": {
        "id": "ser7bbsZXGo7"
      }
    },
    {
      "cell_type": "code",
      "source": [
        "def isPalindrome(num):\n",
        "  rev = 0\n",
        "  orgNum = num\n",
        "  while(num >= 1):\n",
        "    rev = rev*10 + num%10\n",
        "    num//=10\n",
        "  return True if rev == orgNum else False\n",
        "\n",
        "def calculate():\n",
        "  count = 0\n",
        "  for i in range(100, 1000):\n",
        "    if isPalindrome(i) :\n",
        "      count+=1\n",
        "  return count\n",
        "\n",
        "#calculate()\n",
        "\n",
        "\n",
        "def calculate2():\n",
        "  count = 0\n",
        "  for i in range(100,1000):\n",
        "    if str(i) == str(i)[::-1]:\n",
        "      count+=1\n",
        "  return count\n",
        "print(calculate2())"
      ],
      "metadata": {
        "colab": {
          "base_uri": "https://localhost:8080/"
        },
        "id": "351txhOJXXQa",
        "outputId": "a7c30edb-56bc-4d45-ddf6-ba3a7e7bfe7b"
      },
      "execution_count": null,
      "outputs": [
        {
          "output_type": "stream",
          "name": "stdout",
          "text": [
            "90\n"
          ]
        }
      ]
    },
    {
      "cell_type": "markdown",
      "source": [
        "> #### 06 Print largest palindromic number resulting from product of two-digit numbers"
      ],
      "metadata": {
        "id": "lNFHTvxp2HGJ"
      }
    },
    {
      "cell_type": "code",
      "source": [
        "def calculate():\n",
        "    for i in range(99,10,-1):\n",
        "        for j in range(99,10,-1):\n",
        "            if str(i*j) == str(i*j)[::-1]:\n",
        "                return i*j\n",
        "print(calculate())"
      ],
      "metadata": {
        "id": "_LonqnaZ2R5r"
      },
      "execution_count": null,
      "outputs": []
    },
    {
      "cell_type": "markdown",
      "source": [],
      "metadata": {
        "id": "GaPk8gnC3ih2"
      }
    },
    {
      "cell_type": "markdown",
      "source": [
        "> #### 07 GCD(a,b):"
      ],
      "metadata": {
        "id": "2mUGBPvz3mRX"
      }
    },
    {
      "cell_type": "code",
      "source": [
        "def greatest_common_divisor(a, b):\n",
        "    while(b%a != 0):\n",
        "        a, b = b%a, a\n",
        "    return a\n",
        "#greatest_common_divisor(32,48)\n",
        "\n",
        "def greatest_common_divisor2(a, b):\n",
        "    while b:\n",
        "        a, b = b, a % b\n",
        "    return a\n",
        "greatest_common_divisor2(32,48)"
      ],
      "metadata": {
        "colab": {
          "base_uri": "https://localhost:8080/"
        },
        "id": "rZzWabP-3prO",
        "outputId": "1f873e3a-0304-400b-f230-43a70cfc5202"
      },
      "execution_count": null,
      "outputs": [
        {
          "output_type": "execute_result",
          "data": {
            "text/plain": [
              "16"
            ]
          },
          "metadata": {},
          "execution_count": 2
        }
      ]
    }
  ]
}